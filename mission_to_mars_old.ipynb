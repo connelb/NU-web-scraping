{
 "cells": [
  {
   "cell_type": "markdown",
   "metadata": {},
   "source": [
    "# Mission to Mars"
   ]
  },
  {
   "cell_type": "code",
   "execution_count": 264,
   "metadata": {},
   "outputs": [],
   "source": [
    "# Dependencies\n",
    "from bs4 import BeautifulSoup\n",
    "import requests\n",
    "from splinter import Browser\n",
    "from splinter.exceptions import ElementDoesNotExist\n",
    "import pandas as pd"
   ]
  },
  {
   "cell_type": "code",
   "execution_count": 265,
   "metadata": {},
   "outputs": [],
   "source": [
    "nasa_url = 'https://mars.nasa.gov/news/'"
   ]
  },
  {
   "cell_type": "code",
   "execution_count": 266,
   "metadata": {},
   "outputs": [],
   "source": [
    "# Retrieve page with the requests module\n",
    "response = requests.get(nasa_url)"
   ]
  },
  {
   "cell_type": "code",
   "execution_count": 267,
   "metadata": {},
   "outputs": [],
   "source": [
    "# Create BeautifulSoup object; parse with 'html.parser'\n",
    "soup = BeautifulSoup(response.text, 'html.parser')"
   ]
  },
  {
   "cell_type": "code",
   "execution_count": 268,
   "metadata": {},
   "outputs": [
    {
     "name": "stdout",
     "output_type": "stream",
     "text": [
      "/usr/local/bin/chromedriver\r\n"
     ]
    }
   ],
   "source": [
    "# https://splinter.readthedocs.io/en/latest/drivers/chrome.html\n",
    "!which chromedriver"
   ]
  },
  {
   "cell_type": "code",
   "execution_count": 269,
   "metadata": {},
   "outputs": [],
   "source": [
    "executable_path = {'executable_path': '/usr/local/bin/chromedriver'}\n",
    "browser = Browser('chrome', **executable_path, headless=False)"
   ]
  },
  {
   "cell_type": "markdown",
   "metadata": {},
   "source": [
    "### NASA Mars News"
   ]
  },
  {
   "cell_type": "code",
   "execution_count": 270,
   "metadata": {},
   "outputs": [],
   "source": [
    "# print(soup.prettify())"
   ]
  },
  {
   "cell_type": "code",
   "execution_count": 271,
   "metadata": {},
   "outputs": [],
   "source": [
    "# results are returned as an iterable list\n",
    "results = soup.find_all('div',class_=\"slide\")\n",
    "# sidebar = soup.find('ul', class_='nav-list')\n",
    "# categories = sidebar.find_all('li')\n",
    "# results"
   ]
  },
  {
   "cell_type": "code",
   "execution_count": 272,
   "metadata": {},
   "outputs": [
    {
     "name": "stdout",
     "output_type": "stream",
     "text": [
      "-------------\n",
      "\n",
      "\n",
      "New 'AR' Mobile App Features 3-D NASA Spacecraft\n",
      "\n",
      "\n",
      "\n",
      "As of Tuesday morning, June 19, the Martian dust storm had grown in size and was officially a \"planet-encircling\" (or \"global\") dust event. \n",
      "\n",
      "'dict' object has no attribute 'append'\n",
      "-------------\n",
      "\n",
      "\n",
      "New 'AR' Mobile App Features 3-D NASA Spacecraft\n",
      "\n",
      "\n",
      "\n",
      "NASA’s Curiosity rover has found evidence on Mars with implications for NASA’s search for life.\n",
      "\n",
      "'dict' object has no attribute 'append'\n",
      "-------------\n",
      "\n",
      "\n",
      "New 'AR' Mobile App Features 3-D NASA Spacecraft\n",
      "\n",
      "\n",
      "\n",
      "NASA is investing in technology concepts, including several from JPL, that may one day be used for future space exploration missions.\n",
      "\n",
      "'dict' object has no attribute 'append'\n",
      "-------------\n",
      "\n",
      "\n",
      "New 'AR' Mobile App Features 3-D NASA Spacecraft\n",
      "\n",
      "\n",
      "\n",
      "NASA is about to go on a journey to study the center of Mars.\n",
      "\n",
      "'dict' object has no attribute 'append'\n",
      "-------------\n",
      "\n",
      "\n",
      "New 'AR' Mobile App Features 3-D NASA Spacecraft\n",
      "\n",
      "\n",
      "\n",
      "NASA’s next mission to Mars will be the topic of a media briefing Thursday, March 29, at JPL. The briefing will air live on NASA Television and the agency’s website.\n",
      "\n",
      "'dict' object has no attribute 'append'\n",
      "-------------\n",
      "\n",
      "\n",
      "New 'AR' Mobile App Features 3-D NASA Spacecraft\n",
      "\n",
      "\n",
      "\n",
      "NASA spacecraft travel to far-off destinations in space, but a new mobile app produced by NASA's Jet Propulsion Laboratory, Pasadena, California, brings spacecraft to users.\n",
      "\n",
      "'dict' object has no attribute 'append'\n"
     ]
    }
   ],
   "source": [
    "\n",
    "\n",
    "# Loop through returned results\n",
    "for result in results:\n",
    "    news = {}\n",
    "    # Error handling\n",
    "    try:\n",
    "        # Identify and return title of listing\n",
    "        news_title = result.find('div', class_=\"content_title\").text\n",
    "        \n",
    "        # Identify and return price of listing rollover_description_inner\n",
    "        news_p = result.find('div', class_=\"rollover_description_inner\").text\n",
    "        \n",
    "\n",
    "\n",
    "\n",
    "        # Identify and return link to listing\n",
    "#         link = result.a['href']\n",
    "\n",
    "        # Print results only if title, price, and link are available\n",
    "        if (title and news_p):\n",
    "            print('-------------')\n",
    "            print(title)\n",
    "            print(news_p)\n",
    "            news.append({'title':news_title, 'content':news_p})\n",
    "            \n",
    "#             print(link)\n",
    "    except AttributeError as e:\n",
    "        print(e)"
   ]
  },
  {
   "cell_type": "markdown",
   "metadata": {},
   "source": [
    "### JPL Mars Space Images - Featured Image"
   ]
  },
  {
   "cell_type": "code",
   "execution_count": 273,
   "metadata": {},
   "outputs": [],
   "source": [
    "# Retrieve page with the requests module\n",
    "image_url = 'https://www.jpl.nasa.gov/spaceimages/?search=&category=Mars'\n",
    "response1 = requests.get(image_url)"
   ]
  },
  {
   "cell_type": "code",
   "execution_count": 274,
   "metadata": {},
   "outputs": [],
   "source": [
    "# Create BeautifulSoup object; parse with 'html.parser'\n",
    "image_soup = BeautifulSoup(response1.text, 'html.parser')"
   ]
  },
  {
   "cell_type": "code",
   "execution_count": 275,
   "metadata": {},
   "outputs": [
    {
     "data": {
      "text/plain": [
       "'https://www.jpl.nasa.gov/spaceimages/images/mediumsize/PIA19821_ip.jpg'"
      ]
     },
     "execution_count": 275,
     "metadata": {},
     "output_type": "execute_result"
    }
   ],
   "source": [
    "\n",
    "feature_image= image_soup.find(class_='button fancybox')\n",
    "\n",
    "featured_image_url = \"https://www.jpl.nasa.gov\"+feature_image.attrs['data-fancybox-href']\n",
    "featured_image_url"
   ]
  },
  {
   "cell_type": "code",
   "execution_count": 276,
   "metadata": {},
   "outputs": [],
   "source": [
    "browser.visit(image_url)\n",
    "try:\n",
    "    browser.click_link_by_id(\"full_image\")\n",
    "except ElementDoesNotExist:\n",
    "    print(\"Scraping Complete\")\n"
   ]
  },
  {
   "cell_type": "code",
   "execution_count": 277,
   "metadata": {},
   "outputs": [],
   "source": [
    "# \n",
    "# browser.click_link_by_partial_text('FEATURED IMAGE')\n",
    "# try:\n",
    "#     for title_url in titles_and_urls:\n",
    "#         browser.click_link_by_partial_text('next')\n",
    "# except ElementDoesNotExist:\n",
    "#     print(\"Scraping Complete\")"
   ]
  },
  {
   "cell_type": "markdown",
   "metadata": {},
   "source": [
    "### Mars Weather"
   ]
  },
  {
   "cell_type": "code",
   "execution_count": 278,
   "metadata": {},
   "outputs": [],
   "source": [
    "# Retrieve page with the requests module\n",
    "mars_url = 'https://twitter.com/marswxreport?lang=en'\n",
    "response2 = requests.get(mars_url)"
   ]
  },
  {
   "cell_type": "code",
   "execution_count": 279,
   "metadata": {},
   "outputs": [],
   "source": [
    "# Create BeautifulSoup object; parse with 'html.parser'\n",
    "mars_soup = BeautifulSoup(response2.text, 'html.parser')"
   ]
  },
  {
   "cell_type": "code",
   "execution_count": 280,
   "metadata": {},
   "outputs": [
    {
     "data": {
      "text/plain": [
       "[<div class=\"tweet js-stream-tweet js-actionable-tweet js-profile-popup-actionable dismissible-content original-tweet js-original-tweet tweet-has-context \" data-conversation-id=\"1019223008492187648\" data-disclosure-type=\"\" data-follows-you=\"false\" data-item-id=\"1019223008492187648\" data-name=\"Allen Chen\" data-permalink-path=\"/icancallubetty/status/1019223008492187648\" data-reply-to-users-json='[{\"id_str\":\"81934163\",\"screen_name\":\"icancallubetty\",\"name\":\"Allen Chen\",\"emojified_name\":{\"text\":\"Allen Chen\",\"emojified_text_as_html\":\"Allen Chen\"}},{\"id_str\":\"786939553\",\"screen_name\":\"MarsWxReport\",\"name\":\"Mars Weather\",\"emojified_name\":{\"text\":\"Mars Weather\",\"emojified_text_as_html\":\"Mars Weather\"}}]' data-retweet-id=\"1019403188766691328\" data-retweeter=\"MarsWxReport\" data-screen-name=\"icancallubetty\" data-tweet-id=\"1019223008492187648\" data-tweet-nonce=\"1019223008492187648-98647474-e97a-43f6-ac62-f05cbe8e30b7\" data-tweet-stat-initialized=\"true\" data-user-id=\"81934163\" data-you-block=\"false\" data-you-follow=\"false\">\n",
       " <div class=\"context\">\n",
       " <div class=\"tweet-context with-icn \">\n",
       " <span class=\"Icon Icon--small Icon--retweeted\"></span>\n",
       " <span class=\"js-retweet-text\">\n",
       " <a class=\"pretty-link js-user-profile-link\" data-user-id=\"786939553\" href=\"/MarsWxReport\" rel=\"noopener\"><b>Mars Weather</b></a> Retweeted\n",
       "             </span>\n",
       " </div>\n",
       " </div>\n",
       " <div class=\"content\">\n",
       " <div class=\"stream-item-header\">\n",
       " <a class=\"account-group js-account-group js-action-profile js-user-profile-link js-nav\" data-user-id=\"81934163\" href=\"/icancallubetty\">\n",
       " <img alt=\"\" class=\"avatar js-action-profile-avatar\" src=\"https://pbs.twimg.com/profile_images/2482449328/6iogc6qso8wox0dlvsbo_bigger.png\"/>\n",
       " <span class=\"FullNameGroup\">\n",
       " <strong class=\"fullname show-popup-with-id u-textTruncate \" data-aria-label-part=\"\">Allen Chen</strong><span>‏</span><span class=\"UserBadges\"></span><span class=\"UserNameBreak\"> </span></span><span class=\"username u-dir u-textTruncate\" data-aria-label-part=\"\" dir=\"ltr\">@<b>icancallubetty</b></span></a>\n",
       " <small class=\"time\">\n",
       " <a class=\"tweet-timestamp js-permalink js-nav js-tooltip\" data-conversation-id=\"1019223008492187648\" href=\"/icancallubetty/status/1019223008492187648\" title=\"7:11 AM - 17 Jul 2018\"><span class=\"_timestamp js-short-timestamp \" data-aria-label-part=\"last\" data-long-form=\"true\" data-time=\"1531836676\" data-time-ms=\"1531836676000\">Jul 17</span></a>\n",
       " </small>\n",
       " <div class=\"ProfileTweet-action ProfileTweet-action--more js-more-ProfileTweet-actions\">\n",
       " <div class=\"dropdown\">\n",
       " <button class=\"ProfileTweet-actionButton u-textUserColorHover dropdown-toggle js-dropdown-toggle\" type=\"button\">\n",
       " <div class=\"IconContainer js-tooltip\" title=\"More\">\n",
       " <span class=\"Icon Icon--caretDownLight Icon--small\"></span>\n",
       " <span class=\"u-hiddenVisually\">More</span>\n",
       " </div>\n",
       " </button>\n",
       " <div class=\"dropdown-menu is-autoCentered\">\n",
       " <div class=\"dropdown-caret\">\n",
       " <div class=\"caret-outer\"></div>\n",
       " <div class=\"caret-inner\"></div>\n",
       " </div>\n",
       " <ul>\n",
       " <li class=\"copy-link-to-tweet js-actionCopyLinkToTweet\">\n",
       " <button class=\"dropdown-link\" type=\"button\">Copy link to Tweet</button>\n",
       " </li>\n",
       " <li class=\"embed-link js-actionEmbedTweet\" data-nav=\"embed_tweet\">\n",
       " <button class=\"dropdown-link\" type=\"button\">Embed Tweet</button>\n",
       " </li>\n",
       " </ul>\n",
       " </div>\n",
       " </div>\n",
       " </div>\n",
       " </div>\n",
       " <div class=\"js-tweet-text-container\">\n",
       " <p class=\"TweetTextSize TweetTextSize--normal js-tweet-text tweet-text\" data-aria-label-part=\"0\" lang=\"en\">L-2 years. <a class=\"twitter-hashtag pretty-link js-nav\" data-query-source=\"hashtag_click\" dir=\"ltr\" href=\"/hashtag/Mars2020?src=hash\"><s>#</s><b>Mars2020</b></a></p>\n",
       " </div>\n",
       " <div class=\"stream-item-footer\">\n",
       " <div class=\"ProfileTweet-actionCountList u-hiddenVisually\">\n",
       " <span class=\"ProfileTweet-action--reply u-hiddenVisually\">\n",
       " <span class=\"ProfileTweet-actionCount\" data-tweet-stat-count=\"2\">\n",
       " <span class=\"ProfileTweet-actionCountForAria\" data-aria-label-part=\"\" id=\"profile-tweet-action-reply-count-aria-1019223008492187648\">2 replies</span>\n",
       " </span>\n",
       " </span>\n",
       " <span class=\"ProfileTweet-action--retweet u-hiddenVisually\">\n",
       " <span class=\"ProfileTweet-actionCount\" data-tweet-stat-count=\"5\">\n",
       " <span class=\"ProfileTweet-actionCountForAria\" data-aria-label-part=\"\" id=\"profile-tweet-action-retweet-count-aria-1019223008492187648\">5 retweets</span>\n",
       " </span>\n",
       " </span>\n",
       " <span class=\"ProfileTweet-action--favorite u-hiddenVisually\">\n",
       " <span class=\"ProfileTweet-actionCount\" data-tweet-stat-count=\"25\">\n",
       " <span class=\"ProfileTweet-actionCountForAria\" data-aria-label-part=\"\" id=\"profile-tweet-action-favorite-count-aria-1019223008492187648\">25 likes</span>\n",
       " </span>\n",
       " </span>\n",
       " </div>\n",
       " <div aria-label=\"Tweet actions\" class=\"ProfileTweet-actionList js-actions\" role=\"group\">\n",
       " <div class=\"ProfileTweet-action ProfileTweet-action--reply\">\n",
       " <button aria-describedby=\"profile-tweet-action-reply-count-aria-1019223008492187648\" class=\"ProfileTweet-actionButton js-actionButton js-actionReply\" data-modal=\"ProfileTweet-reply\" type=\"button\">\n",
       " <div class=\"IconContainer js-tooltip\" title=\"Reply\">\n",
       " <span class=\"Icon Icon--medium Icon--reply\"></span>\n",
       " <span class=\"u-hiddenVisually\">Reply</span>\n",
       " </div>\n",
       " <span class=\"ProfileTweet-actionCount \">\n",
       " <span aria-hidden=\"true\" class=\"ProfileTweet-actionCountForPresentation\">2</span>\n",
       " </span>\n",
       " </button>\n",
       " </div>\n",
       " <div class=\"ProfileTweet-action ProfileTweet-action--retweet js-toggleState js-toggleRt\">\n",
       " <button aria-describedby=\"profile-tweet-action-retweet-count-aria-1019223008492187648\" class=\"ProfileTweet-actionButton js-actionButton js-actionRetweet\" data-modal=\"ProfileTweet-retweet\" type=\"button\">\n",
       " <div class=\"IconContainer js-tooltip\" title=\"Retweet\">\n",
       " <span class=\"Icon Icon--medium Icon--retweet\"></span>\n",
       " <span class=\"u-hiddenVisually\">Retweet</span>\n",
       " </div>\n",
       " <span class=\"ProfileTweet-actionCount\">\n",
       " <span aria-hidden=\"true\" class=\"ProfileTweet-actionCountForPresentation\">5</span>\n",
       " </span>\n",
       " </button><button class=\"ProfileTweet-actionButtonUndo js-actionButton js-actionRetweet\" data-modal=\"ProfileTweet-retweet\" type=\"button\">\n",
       " <div class=\"IconContainer js-tooltip\" title=\"Undo retweet\">\n",
       " <span class=\"Icon Icon--medium Icon--retweet\"></span>\n",
       " <span class=\"u-hiddenVisually\">Retweeted</span>\n",
       " </div>\n",
       " <span class=\"ProfileTweet-actionCount\">\n",
       " <span aria-hidden=\"true\" class=\"ProfileTweet-actionCountForPresentation\">5</span>\n",
       " </span>\n",
       " </button>\n",
       " </div>\n",
       " <div class=\"ProfileTweet-action ProfileTweet-action--favorite js-toggleState\">\n",
       " <button aria-describedby=\"profile-tweet-action-favorite-count-aria-1019223008492187648\" class=\"ProfileTweet-actionButton js-actionButton js-actionFavorite\" type=\"button\">\n",
       " <div class=\"IconContainer js-tooltip\" title=\"Like\">\n",
       " <span class=\"Icon Icon--heart Icon--medium\" role=\"presentation\"></span>\n",
       " <div class=\"HeartAnimation\"></div>\n",
       " <span class=\"u-hiddenVisually\">Like</span>\n",
       " </div>\n",
       " <span class=\"ProfileTweet-actionCount\">\n",
       " <span aria-hidden=\"true\" class=\"ProfileTweet-actionCountForPresentation\">25</span>\n",
       " </span>\n",
       " </button><button class=\"ProfileTweet-actionButtonUndo ProfileTweet-action--unfavorite u-linkClean js-actionButton js-actionFavorite\" type=\"button\">\n",
       " <div class=\"IconContainer js-tooltip\" title=\"Undo like\">\n",
       " <span class=\"Icon Icon--heart Icon--medium\" role=\"presentation\"></span>\n",
       " <div class=\"HeartAnimation\"></div>\n",
       " <span class=\"u-hiddenVisually\">Liked</span>\n",
       " </div>\n",
       " <span class=\"ProfileTweet-actionCount\">\n",
       " <span aria-hidden=\"true\" class=\"ProfileTweet-actionCountForPresentation\">25</span>\n",
       " </span>\n",
       " </button>\n",
       " </div>\n",
       " </div>\n",
       " </div>\n",
       " </div>\n",
       " </div>]"
      ]
     },
     "execution_count": 280,
     "metadata": {},
     "output_type": "execute_result"
    }
   ],
   "source": [
    "mars_weather= mars_soup.find('div', class_='stream')\n",
    "tweets = mars_weather.find('ol')\n",
    "tweets1 = tweets.find_all('li', class_=\"js-stream-item stream-item stream-item \")\n",
    "tweets2 = tweets.find_all('div',class_=\"TweetTextSize TweetTextSize--normal js-tweet-text tweet-text\")\n",
    "tweets3 = tweets.find_all('div', class_='tweet js-stream-tweet js-actionable-tweet js-profile-popup-actionable dismissible-content original-tweet js-original-tweet tweet-has-context ')\n",
    "mars_weather = ''\n",
    "tweets3\n",
    "# #timeline > div\n",
    " #sidebar = soup.find('ul', class_='nav-list') #page-container > div.AppContainer > div > div > div.Grid-cell.u-size2of3.u-lg-size3of4 > div > div.Grid-cell.u-lg-size2of3\n",
    "# categories = sidebar.find_all('li')\n",
    "# \"fullname show-popup-with-id u-textTruncate \"  TweetTextSize TweetTextSize--normal js-tweet-text tweet-text"
   ]
  },
  {
   "cell_type": "markdown",
   "metadata": {},
   "source": [
    "### Mars Facts"
   ]
  },
  {
   "cell_type": "code",
   "execution_count": 292,
   "metadata": {},
   "outputs": [],
   "source": [
    "url = 'http://space-facts.com/mars/'\n",
    "# #tablepress-mars\n",
    "# Retrieve page with the requests module\n",
    "response = requests.get(url)\n",
    "# Create BeautifulSoup object; parse with 'lxml'\n",
    "#soup = BeautifulSoup(response.text, 'lxml')\n",
    "soup = BeautifulSoup(response.text,'lxml')"
   ]
  },
  {
   "cell_type": "code",
   "execution_count": 326,
   "metadata": {},
   "outputs": [
    {
     "data": {
      "text/plain": [
       "bs4.element.Tag"
      ]
     },
     "execution_count": 326,
     "metadata": {},
     "output_type": "execute_result"
    }
   ],
   "source": [
    "table = soup.find('table')\n",
    "type(table)"
   ]
  },
  {
   "cell_type": "code",
   "execution_count": 327,
   "metadata": {},
   "outputs": [
    {
     "data": {
      "text/plain": [
       "[                      0                              1\n",
       " 0  Equatorial Diameter:                       6,792 km\n",
       " 1       Polar Diameter:                       6,752 km\n",
       " 2                 Mass:  6.42 x 10^23 kg (10.7% Earth)\n",
       " 3                Moons:            2 (Phobos & Deimos)\n",
       " 4       Orbit Distance:       227,943,824 km (1.52 AU)\n",
       " 5         Orbit Period:           687 days (1.9 years)\n",
       " 6  Surface Temperature:                  -153 to 20 °C\n",
       " 7         First Record:              2nd millennium BC\n",
       " 8          Recorded By:           Egyptian astronomers]"
      ]
     },
     "execution_count": 327,
     "metadata": {},
     "output_type": "execute_result"
    }
   ],
   "source": [
    "df = pd.read_html(url)\n",
    "df"
   ]
  },
  {
   "cell_type": "code",
   "execution_count": 336,
   "metadata": {},
   "outputs": [
    {
     "data": {
      "text/html": [
       "<div>\n",
       "<style scoped>\n",
       "    .dataframe tbody tr th:only-of-type {\n",
       "        vertical-align: middle;\n",
       "    }\n",
       "\n",
       "    .dataframe tbody tr th {\n",
       "        vertical-align: top;\n",
       "    }\n",
       "\n",
       "    .dataframe thead th {\n",
       "        text-align: right;\n",
       "    }\n",
       "</style>\n",
       "<table border=\"1\" class=\"dataframe\">\n",
       "  <thead>\n",
       "    <tr style=\"text-align: right;\">\n",
       "      <th></th>\n",
       "      <th>Key</th>\n",
       "      <th>Value</th>\n",
       "    </tr>\n",
       "  </thead>\n",
       "  <tbody>\n",
       "    <tr>\n",
       "      <th>0</th>\n",
       "      <td>Equatorial Diameter:</td>\n",
       "      <td>6,792 km</td>\n",
       "    </tr>\n",
       "    <tr>\n",
       "      <th>1</th>\n",
       "      <td>Polar Diameter:</td>\n",
       "      <td>6,752 km</td>\n",
       "    </tr>\n",
       "    <tr>\n",
       "      <th>2</th>\n",
       "      <td>Mass:</td>\n",
       "      <td>6.42 x 10^23 kg (10.7% Earth)</td>\n",
       "    </tr>\n",
       "    <tr>\n",
       "      <th>3</th>\n",
       "      <td>Moons:</td>\n",
       "      <td>2 (Phobos &amp; Deimos)</td>\n",
       "    </tr>\n",
       "    <tr>\n",
       "      <th>4</th>\n",
       "      <td>Orbit Distance:</td>\n",
       "      <td>227,943,824 km (1.52 AU)</td>\n",
       "    </tr>\n",
       "  </tbody>\n",
       "</table>\n",
       "</div>"
      ],
      "text/plain": [
       "                    Key                          Value\n",
       "0  Equatorial Diameter:                       6,792 km\n",
       "1       Polar Diameter:                       6,752 km\n",
       "2                 Mass:  6.42 x 10^23 kg (10.7% Earth)\n",
       "3                Moons:            2 (Phobos & Deimos)\n",
       "4       Orbit Distance:       227,943,824 km (1.52 AU)"
      ]
     },
     "execution_count": 336,
     "metadata": {},
     "output_type": "execute_result"
    }
   ],
   "source": [
    "df1 = df[0]\n",
    "df1.columns = ['Key', 'Value']\n",
    "df1.head()"
   ]
  },
  {
   "cell_type": "code",
   "execution_count": 337,
   "metadata": {},
   "outputs": [
    {
     "data": {
      "text/html": [
       "<div>\n",
       "<style scoped>\n",
       "    .dataframe tbody tr th:only-of-type {\n",
       "        vertical-align: middle;\n",
       "    }\n",
       "\n",
       "    .dataframe tbody tr th {\n",
       "        vertical-align: top;\n",
       "    }\n",
       "\n",
       "    .dataframe thead th {\n",
       "        text-align: right;\n",
       "    }\n",
       "</style>\n",
       "<table border=\"1\" class=\"dataframe\">\n",
       "  <thead>\n",
       "    <tr style=\"text-align: right;\">\n",
       "      <th></th>\n",
       "      <th>Value</th>\n",
       "    </tr>\n",
       "    <tr>\n",
       "      <th>Key</th>\n",
       "      <th></th>\n",
       "    </tr>\n",
       "  </thead>\n",
       "  <tbody>\n",
       "    <tr>\n",
       "      <th>Equatorial Diameter:</th>\n",
       "      <td>6,792 km</td>\n",
       "    </tr>\n",
       "    <tr>\n",
       "      <th>Polar Diameter:</th>\n",
       "      <td>6,752 km</td>\n",
       "    </tr>\n",
       "    <tr>\n",
       "      <th>Mass:</th>\n",
       "      <td>6.42 x 10^23 kg (10.7% Earth)</td>\n",
       "    </tr>\n",
       "    <tr>\n",
       "      <th>Moons:</th>\n",
       "      <td>2 (Phobos &amp; Deimos)</td>\n",
       "    </tr>\n",
       "    <tr>\n",
       "      <th>Orbit Distance:</th>\n",
       "      <td>227,943,824 km (1.52 AU)</td>\n",
       "    </tr>\n",
       "  </tbody>\n",
       "</table>\n",
       "</div>"
      ],
      "text/plain": [
       "                                              Value\n",
       "Key                                                \n",
       "Equatorial Diameter:                       6,792 km\n",
       "Polar Diameter:                            6,752 km\n",
       "Mass:                 6.42 x 10^23 kg (10.7% Earth)\n",
       "Moons:                          2 (Phobos & Deimos)\n",
       "Orbit Distance:            227,943,824 km (1.52 AU)"
      ]
     },
     "execution_count": 337,
     "metadata": {},
     "output_type": "execute_result"
    }
   ],
   "source": [
    "df1.set_index('Key', inplace=True)\n",
    "df1.head()"
   ]
  },
  {
   "cell_type": "code",
   "execution_count": 339,
   "metadata": {},
   "outputs": [
    {
     "data": {
      "text/plain": [
       "'<table border=\"1\" class=\"dataframe\">\\n  <thead>\\n    <tr style=\"text-align: right;\">\\n      <th></th>\\n      <th>Value</th>\\n    </tr>\\n    <tr>\\n      <th>Key</th>\\n      <th></th>\\n    </tr>\\n  </thead>\\n  <tbody>\\n    <tr>\\n      <th>Equatorial Diameter:</th>\\n      <td>6,792 km</td>\\n    </tr>\\n    <tr>\\n      <th>Polar Diameter:</th>\\n      <td>6,752 km</td>\\n    </tr>\\n    <tr>\\n      <th>Mass:</th>\\n      <td>6.42 x 10^23 kg (10.7% Earth)</td>\\n    </tr>\\n    <tr>\\n      <th>Moons:</th>\\n      <td>2 (Phobos &amp; Deimos)</td>\\n    </tr>\\n    <tr>\\n      <th>Orbit Distance:</th>\\n      <td>227,943,824 km (1.52 AU)</td>\\n    </tr>\\n    <tr>\\n      <th>Orbit Period:</th>\\n      <td>687 days (1.9 years)</td>\\n    </tr>\\n    <tr>\\n      <th>Surface Temperature:</th>\\n      <td>-153 to 20 °C</td>\\n    </tr>\\n    <tr>\\n      <th>First Record:</th>\\n      <td>2nd millennium BC</td>\\n    </tr>\\n    <tr>\\n      <th>Recorded By:</th>\\n      <td>Egyptian astronomers</td>\\n    </tr>\\n  </tbody>\\n</table>'"
      ]
     },
     "execution_count": 339,
     "metadata": {},
     "output_type": "execute_result"
    }
   ],
   "source": [
    "html_table = df1.to_html()\n",
    "html_table"
   ]
  },
  {
   "cell_type": "code",
   "execution_count": 340,
   "metadata": {},
   "outputs": [
    {
     "data": {
      "text/plain": [
       "'<table border=\"1\" class=\"dataframe\">  <thead>    <tr style=\"text-align: right;\">      <th></th>      <th>Value</th>    </tr>    <tr>      <th>Key</th>      <th></th>    </tr>  </thead>  <tbody>    <tr>      <th>Equatorial Diameter:</th>      <td>6,792 km</td>    </tr>    <tr>      <th>Polar Diameter:</th>      <td>6,752 km</td>    </tr>    <tr>      <th>Mass:</th>      <td>6.42 x 10^23 kg (10.7% Earth)</td>    </tr>    <tr>      <th>Moons:</th>      <td>2 (Phobos &amp; Deimos)</td>    </tr>    <tr>      <th>Orbit Distance:</th>      <td>227,943,824 km (1.52 AU)</td>    </tr>    <tr>      <th>Orbit Period:</th>      <td>687 days (1.9 years)</td>    </tr>    <tr>      <th>Surface Temperature:</th>      <td>-153 to 20 °C</td>    </tr>    <tr>      <th>First Record:</th>      <td>2nd millennium BC</td>    </tr>    <tr>      <th>Recorded By:</th>      <td>Egyptian astronomers</td>    </tr>  </tbody></table>'"
      ]
     },
     "execution_count": 340,
     "metadata": {},
     "output_type": "execute_result"
    }
   ],
   "source": [
    "html_table.replace('\\n', '')"
   ]
  },
  {
   "cell_type": "code",
   "execution_count": 341,
   "metadata": {},
   "outputs": [],
   "source": [
    "df1.to_html('table.html')"
   ]
  },
  {
   "cell_type": "code",
   "execution_count": 342,
   "metadata": {},
   "outputs": [
    {
     "name": "stdout",
     "output_type": "stream",
     "text": [
      "The file /Users/brianconnell/Documents/Bootcamp/homework/web_scrape/NU-web-scraping/html_table.html does not exist.\r\n"
     ]
    }
   ],
   "source": [
    "!open html_table.html"
   ]
  },
  {
   "cell_type": "markdown",
   "metadata": {},
   "source": [
    "### Mars Hemispheres"
   ]
  },
  {
   "cell_type": "code",
   "execution_count": null,
   "metadata": {},
   "outputs": [],
   "source": [
    "# https://astrogeology.usgs.gov/search/results?q=hemisphere+enhanced&k1=target&v1=Mars"
   ]
  },
  {
   "cell_type": "code",
   "execution_count": null,
   "metadata": {},
   "outputs": [],
   "source": []
  },
  {
   "cell_type": "code",
   "execution_count": null,
   "metadata": {},
   "outputs": [],
   "source": []
  }
 ],
 "metadata": {
  "kernelspec": {
   "display_name": "Python 3",
   "language": "python",
   "name": "python3"
  },
  "language_info": {
   "codemirror_mode": {
    "name": "ipython",
    "version": 3
   },
   "file_extension": ".py",
   "mimetype": "text/x-python",
   "name": "python",
   "nbconvert_exporter": "python",
   "pygments_lexer": "ipython3",
   "version": "3.6.5"
  }
 },
 "nbformat": 4,
 "nbformat_minor": 2
}
